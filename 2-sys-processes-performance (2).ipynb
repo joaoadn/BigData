{
 "cells": [
  {
   "cell_type": "markdown",
   "id": "2880c7e1-6c59-4f74-b04b-1f3f9ee678d8",
   "metadata": {},
   "source": [
    "# EX2-SYS: Jupyter, Python processes, measuring performance\n",
    "\n",
    "Your assignment: complete the `TODO`'s and include also the **output of each cell**."
   ]
  },
  {
   "cell_type": "markdown",
   "id": "8e4606b5-fa6e-4518-8568-1ed3b8bca31b",
   "metadata": {},
   "source": [
    "### Step 1: Download HDFS log file (open data) and Unzip files. Check with professor: this file may be available internally."
   ]
  },
  {
   "cell_type": "code",
   "execution_count": null,
   "id": "737e166d",
   "metadata": {},
   "outputs": [],
   "source": [
    "!mkdir data"
   ]
  },
  {
   "cell_type": "code",
   "execution_count": null,
   "id": "3a004927-d165-41cc-8ba4-167008dc3a1a",
   "metadata": {},
   "outputs": [],
   "source": [
    "![ -e \"data/hdfs/HDFS.log\" ] || (wget https://zenodo.org/records/8196385/files/HDFS_v1.zip -P data/ && unzip -o data/HDFS_v1.zip -d data/hdfs && rm data/HDFS_v1.zip)"
   ]
  },
  {
   "cell_type": "markdown",
   "id": "48393ca3-d4bf-4a9f-bf7d-283d8533b389",
   "metadata": {},
   "source": [
    "### Step 2: This practice is going to process file `data/hdfs/HDFS.log`. First, create a Python program that counts the number of lines of this file."
   ]
  },
  {
   "cell_type": "code",
   "execution_count": null,
   "id": "4d59662c-dca5-468b-91e6-db80711e0e8d",
   "metadata": {},
   "outputs": [],
   "source": [
    "def count_lines(file_path):\n",
    "    n = 0\n",
    "    with open(file_path, 'r', encoding='utf-8') as file:\n",
    "        for _ in file:\n",
    "            n += 1\n",
    "    return n"
   ]
  },
  {
   "cell_type": "markdown",
   "id": "f063793e-24f9-4718-8acd-3ab2751202da",
   "metadata": {},
   "source": [
    "### Step 3: Test your function"
   ]
  },
  {
   "cell_type": "code",
   "execution_count": null,
   "id": "49e4c7f7-8df8-4ab5-aad2-ce452ba638a9",
   "metadata": {},
   "outputs": [],
   "source": [
    "file_path = 'data/hdfs/HDFS.log'\n",
    "n = count_lines(file_path)\n",
    "print('File %s has %d lines.' % (file_path, n))"
   ]
  },
  {
   "cell_type": "markdown",
   "id": "b4ede053-8d0a-4f94-9d74-1afcad6ded79",
   "metadata": {},
   "source": [
    "### Step 4: Also, get the size of the input file (in bytes)"
   ]
  },
  {
   "cell_type": "code",
   "execution_count": null,
   "id": "064c8026-9c63-4b0d-915e-c0fa086b7dbc",
   "metadata": {},
   "outputs": [],
   "source": [
    "!ls -l data/hdfs/HDFS.log\n",
    "!ls -l data/hdfs/HDFS.log | awk '{print $5}'"
   ]
  },
  {
   "cell_type": "markdown",
   "id": "db8338d6-50ae-4f89-854c-c9d41a29253b",
   "metadata": {},
   "source": [
    "### Step 5: List the running Python processes"
   ]
  },
  {
   "cell_type": "code",
   "execution_count": null,
   "id": "cb9f09d6-1605-45e6-a69e-096c28a8adc3",
   "metadata": {},
   "outputs": [],
   "source": [
    "!pgrep -af '[p]ython'"
   ]
  },
  {
   "cell_type": "markdown",
   "id": "e6f59359-0963-4a34-9f8e-323bad996cc1",
   "metadata": {},
   "source": [
    "### Step 6: Python threads and also child/parent processes"
   ]
  },
  {
   "cell_type": "code",
   "execution_count": null,
   "id": "9f43795f-f24c-405e-a0a8-2280db3d34ab",
   "metadata": {
    "scrolled": true
   },
   "outputs": [],
   "source": [
    "!ps -eLf | head -1\n",
    "!ps -eLf | grep -i '[p]ython'"
   ]
  },
  {
   "cell_type": "markdown",
   "id": "e09a5599-08e6-4417-810d-d55408ce988a",
   "metadata": {},
   "source": [
    "### Step 7: Interpret and write down what does the output from the last two commands actually means (process and thread hierarchy)\n",
    "R: `O comando ps -eLf mostra todos os processos e suas threads. O filtro com grep '[p]ython' extrai apenas os que estão executando código Python.\n",
    "O output mostra que há dois principais processos Python em execução:\n",
    "Um processo do jupyter-lab (PID 1), rodando com múltiplas threads (LWP: 1, 9, 10, 20, 21).\n",
    "Um processo de kernel do notebook (ipykernel_launcher, PID 19), que é filho do processo anterior e também possui várias threads (LWP: 19, 22–26).\n",
    "Cada entrada representa uma thread de um processo. A thread principal tem LWP igual ao PID. As demais são threads secundárias (criadas por bibliotecas ou pelo interpretador Python).\n",
    "A hierarquia mostra que o kernel Python (PID 19) foi iniciado a partir do processo do Jupyter (PID 1), evidenciando a estrutura pai-filho entre eles.`"
   ]
  },
  {
   "cell_type": "markdown",
   "id": "e0c080c0-9ccf-4d97-94df-561a40917006",
   "metadata": {},
   "source": [
    "### Step 8: Write a function that categorizes the lines in `HDFS.log` in a nested dictionary:"
   ]
  },
  {
   "cell_type": "code",
   "execution_count": null,
   "id": "9db8c9c4-c941-443d-b882-fd54f079a61c",
   "metadata": {},
   "outputs": [],
   "source": [
    "import re\n",
    "from collections import defaultdict\n",
    "\n",
    "def get_logfile_data_as_dict(file_path):\n",
    "    data = defaultdict(lambda: defaultdict(list))\n",
    "    pattern = re.compile(r'\\b(INFO|WARN|ERROR|DEBUG|TRACE|FATAL)\\b\\s+([\\w\\.]+):\\s+(.*)')\n",
    "\n",
    "    with open(file_path, 'r', encoding='utf-8') as file:\n",
    "        for line in file:\n",
    "            match = pattern.search(line)\n",
    "            if match:\n",
    "                log_type = match.group(1).lower()\n",
    "                class_name = match.group(2)\n",
    "                message = match.group(3).strip()\n",
    "                data[log_type][class_name].append(message)\n",
    "    return data"
   ]
  },
  {
   "cell_type": "markdown",
   "id": "2ea70462-a525-49fd-b33b-f29100bccf88",
   "metadata": {},
   "source": [
    "### Step 9: Measure the throughput of `count_lines()` and `get_logfile_data_as_dict()`"
   ]
  },
  {
   "cell_type": "code",
   "execution_count": null,
   "id": "987d6e98-30e2-4382-b410-df677878663c",
   "metadata": {},
   "outputs": [],
   "source": [
    "import time\n",
    "\n",
    "def measure_time_count_lines(file_path):\n",
    "    start_time = time.time()\n",
    "    count_lines(file_path)\n",
    "    elapsed_time = time.time() - start_time\n",
    "    return elapsed_time\n",
    "\n",
    "def measure_time_get_logfile_data_as_dict(file_path):\n",
    "    start_time = time.time()\n",
    "    get_logfile_data_as_dict(file_path)\n",
    "    elapsed_time = time.time() - start_time\n",
    "    return elapsed_time"
   ]
  },
  {
   "cell_type": "markdown",
   "id": "da19f5d3-bf58-4b11-ad51-39c5c91f232b",
   "metadata": {},
   "source": [
    "### Step 10: Replication: repeat the previous functions a number of times, report each time"
   ]
  },
  {
   "cell_type": "code",
   "execution_count": null,
   "id": "e904ba3f-4e83-4d67-854e-17ef4225d3d5",
   "metadata": {},
   "outputs": [],
   "source": [
    "num_replications = 3\n",
    "file_path = 'data/hdfs/HDFS.log'\n",
    "times_lines = []\n",
    "times_logs = []\n",
    "print(\"== Replicating count_lines ==\")\n",
    "for i in range(num_replications):\n",
    "    t = measure_time_count_lines(file_path)\n",
    "    times_lines.append(t)\n",
    "    print(f\"Repetition {i+1}: {t:.4f} seconds\")\n",
    "\n",
    "print(\"\\n== Replicating get_logfile_data_as_dict ==\")\n",
    "for i in range(num_replications):\n",
    "    t = measure_time_get_logfile_data_as_dict(file_path)\n",
    "    times_logs.append(t)\n",
    "    print(f\"Repetition {i+1}: {t:.4f} seconds\")"
   ]
  },
  {
   "cell_type": "markdown",
   "id": "7ca5a2ec-67be-4717-9dde-7f8e55e13a24",
   "metadata": {},
   "source": [
    "### Step 11: Take the average, minimum, maximum and standard deviation of those runtime values"
   ]
  },
  {
   "cell_type": "code",
   "execution_count": null,
   "id": "071172cd-4193-4dda-a36d-b891a86d6a3f",
   "metadata": {},
   "outputs": [],
   "source": [
    "import statistics\n",
    "\n",
    "def print_stats(times, func):\n",
    "    print(f\"\\n== Stats for {func} ==\")\n",
    "    print(f\"Average: {statistics.mean(times):.4f} seconds\")\n",
    "    print(f\"Min    : {min(times):.4f} seconds\")\n",
    "    print(f\"Max    : {max(times):.4f} seconds\")\n",
    "    print(f\"Stdev  : {statistics.stdev(times):.4f} seconds\" if len(times) > 1 else \"Stdev  : N/A\")\n",
    "\n",
    "print_stats(times_lines, \"count_lines\")\n",
    "print_stats(times_logs, \"get_logfile_data_as_dict\")"
   ]
  },
  {
   "cell_type": "markdown",
   "id": "832cdbb8-4fe5-441e-88f7-fbc47259cbb9",
   "metadata": {},
   "source": [
    "### Step 12: Response time"
   ]
  },
  {
   "cell_type": "code",
   "execution_count": null,
   "id": "f71fc24a-077f-4190-8628-d93cb71d831b",
   "metadata": {},
   "outputs": [],
   "source": [
    "server_code = \"\"\"import socket\n",
    "import time\n",
    "import random\n",
    "\n",
    "def process_message(message):\n",
    "    print(f\"Received message: {message}\")\n",
    "    time.sleep(random.uniform(0, 1)) # sleep some time, emulate varying serve time\n",
    "    if message == \"stop\":\n",
    "        return True, f\"Processed: {message}\"\n",
    "    else:\n",
    "        return False, f\"Processed: {message}\"    \n",
    "\n",
    "def start_server(host='0.0.0.0', port=12345):\n",
    "    with socket.socket(socket.AF_INET, socket.SOCK_STREAM) as server_socket:\n",
    "        server_socket.setsockopt(socket.SOL_SOCKET, socket.SO_REUSEADDR, 1)\n",
    "        server_socket.bind((host, port))\n",
    "        server_socket.listen(1)\n",
    "        print(f\"Listening on {host}:{port}...\")\n",
    "\n",
    "        stop = False\n",
    "\n",
    "        while not stop:\n",
    "        \n",
    "            conn, addr = server_socket.accept()\n",
    "            with conn:\n",
    "                print(f\"Connection from {addr}\")\n",
    "                data = conn.recv(1024).decode().strip()\n",
    "                if data:\n",
    "                    stop, response = process_message(data)\n",
    "                    conn.sendall(response.encode())\n",
    "                \n",
    "if __name__ == \"__main__\":\n",
    "    start_server()\n",
    "\"\"\"\n",
    "\n",
    "# Write the code to the file\n",
    "server_file_path = '/tmp/server.py'\n",
    "with open(server_file_path, \"w\") as file:\n",
    "    file.write(server_code)\n",
    "\n",
    "print(f\"Python code written to {server_file_path}\")"
   ]
  },
  {
   "cell_type": "code",
   "execution_count": null,
   "id": "1a264e23-a879-4b11-97e9-c124d2a7880c",
   "metadata": {},
   "outputs": [],
   "source": [
    "client_code = \"\"\"import socket\n",
    "import sys\n",
    "import time\n",
    "\n",
    "def send_message(host='127.0.0.1', port=12345, message='Hello, Server!'):\n",
    "    with socket.socket(socket.AF_INET, socket.SOCK_STREAM) as client_socket:\n",
    "        client_socket.connect((host, port))\n",
    "        client_socket.sendall(message.encode())\n",
    "        response = client_socket.recv(1024).decode()\n",
    "        print(f\"Server response: {response}\")\n",
    "\n",
    "if __name__ == \"__main__\":\n",
    "    message = sys.argv[1]\n",
    "    start_time = time.time()\n",
    "    send_message(message=message)\n",
    "    elapsed_time = time.time() - start_time\n",
    "    print(f\"Response time: {elapsed_time} seconds\")\n",
    "\"\"\"\n",
    "\n",
    "# Write the code to the file\n",
    "client_file_path = '/tmp/client.py'\n",
    "with open(client_file_path, \"w\") as file:\n",
    "    file.write(client_code)\n",
    "\n",
    "print(f\"Python code written to {client_file_path}\")"
   ]
  },
  {
   "cell_type": "markdown",
   "id": "ad75ee98",
   "metadata": {},
   "source": [
    "### Step 13: TODO: Open two terminals:\n",
    "\n",
    "- Start by running this on each (pyenv) -- this means that is set to be used a *specific* python installation, including packages and versioning:\n",
    "\n",
    "```bash\n",
    "source /app/.venv/bin/activate\n",
    "```\n",
    "\n",
    "- First one: run server\n",
    "- Second one: run client (a few times)\n",
    "- Include here the output\n",
    "\n",
    "```text\n",
    "\n",
    "8d5244dad408:/app/hostdir# python /tmp/server.py\n",
    "Listening on 0.0.0.0:12345...\n",
    "Connection from ('127.0.0.1', 34508)\n",
    "Received message: Diogo\n",
    "Connection from ('127.0.0.1', 37712)\n",
    "Received message: Rafael\n",
    "Connection from ('127.0.0.1', 37728)\n",
    "Received message: Joao\n",
    "Connection from ('127.0.0.1', 51978)\n",
    "Received message: Arthur\n",
    "\n",
    "Output: 8d5244dad408:/app/hostdir# python /tmp/client.py Diogo\n",
    "Server response: Processed: Diogo\n",
    "Response time: 0.22179007530212402 seconds\n",
    "8d5244dad408:/app/hostdir# python /tmp/client.py Rafael\n",
    "Server response: Processed: Rafael\n",
    "Response time: 0.9741623401641846 seconds\n",
    "8d5244dad408:/app/hostdir# python /tmp/client.py Joao\n",
    "Server response: Processed: Joao\n",
    "Response time: 0.4639458656311035 seconds\n",
    "8d5244dad408:/app/hostdir# python /tmp/client.py Arthur\n",
    "Server response: Processed: Arthur\n",
    "Response time: 0.04177045822143555 seconds\n",
    "8d5244dad408:/app/hostdir# \n",
    "```"
   ]
  },
  {
   "cell_type": "markdown",
   "id": "58a7ef41",
   "metadata": {},
   "source": [
    "### Step 14: Modify server.py to:\n",
    "1. Construct an in memory dict data using `get_logfile_data_as_dict()`, for the HDFS file.\n",
    "2. Process message function `process_message()` get as input one of the log types (info, warn, error, etc.) and returns the **total of string characters** over all log lines of that type.\n",
    "3. Below the code with the function that must be implemented."
   ]
  },
  {
   "cell_type": "code",
   "execution_count": null,
   "id": "d3b444a5",
   "metadata": {},
   "outputs": [],
   "source": [
    "server_code_modified = \"\"\"import socket\n",
    "import time\n",
    "import random\n",
    "import re\n",
    "from collections import defaultdict\n",
    "\n",
    "\n",
    "def get_logfile_data_as_dict(file_path):\n",
    "    data = defaultdict(lambda: defaultdict(list))\n",
    "    pattern = re.compile(r'\\\\b(INFO|WARN|ERROR|DEBUG|TRACE|FATAL)\\\\b\\\\s+([\\\\w\\\\.]+):\\\\s+(.*)')\n",
    "\n",
    "    with open(file_path, 'r', encoding='utf-8') as file:\n",
    "        for line in file:\n",
    "            match = pattern.search(line)\n",
    "            if match:\n",
    "                log_type = match.group(1).lower()\n",
    "                class_name = match.group(2)\n",
    "                message = match.group(3).strip()\n",
    "                data[log_type][class_name].append(message)\n",
    "\n",
    "    return data\n",
    "\n",
    "log_data = get_logfile_data_as_dict('data/hdfs/HDFS.log')\n",
    "\n",
    "def process_message(message):\n",
    "    print(f\"Received message: {message}\")\n",
    "\n",
    "    if message.lower() == \"stop\":\n",
    "        return True, f\"Processed: {message}\"\n",
    "    else:\n",
    "        total_chars = 0\n",
    "        for class_name in log_data.get(message.lower(), {}):\n",
    "            for log_msg in log_data[message.lower()][class_name]:\n",
    "                total_chars += len(log_msg)\n",
    "        return False, f\"Total characters for '{message}': {total_chars}\"\n",
    "\n",
    "\n",
    "def start_server(host='0.0.0.0', port=12345):\n",
    "    with socket.socket(socket.AF_INET, socket.SOCK_STREAM) as server_socket:\n",
    "        server_socket.setsockopt(socket.SOL_SOCKET, socket.SO_REUSEADDR, 1)\n",
    "        server_socket.bind((host, port))\n",
    "        server_socket.listen(1)\n",
    "        print(f\"Listening on {host}:{port}...\")\n",
    "\n",
    "        stop = False\n",
    "\n",
    "        while not stop:\n",
    "            conn, addr = server_socket.accept()\n",
    "            with conn:\n",
    "                print(f\"Connection from {addr}\")\n",
    "                data = conn.recv(1024).decode().strip()\n",
    "                if data:\n",
    "                    stop, response = process_message(data)\n",
    "                    conn.sendall(response.encode())\n",
    "                \n",
    "if __name__ == \"__main__\":\n",
    "    start_server()\n",
    "\"\"\"\n",
    "\n",
    "# Write the code to the file\n",
    "server_file_path = '/tmp/server_modified.py'\n",
    "with open(server_file_path, \"w\") as file:\n",
    "    file.write(server_code_modified)\n",
    "\n",
    "print(f\"Python code written to {server_file_path}\")"
   ]
  },
  {
   "cell_type": "markdown",
   "id": "8b9962e6-ceda-4a1a-bd69-999c867bcea3",
   "metadata": {},
   "source": [
    "### Step 15: Measure response time with the modified version of server: `server_modified.py`\n",
    "\n",
    "```text\n",
    "Output:\n",
    "8d5244dad408:/app/hostdir# python /tmp/client.py INFO\n",
    "Server response: Total characters for 'INFO': 573129686\n",
    "Response time: 0.8905811309814453 seconds\n",
    "8d5244dad408:/app/hostdir# python /tmp/client.py WARN\n",
    "Server response: Total characters for 'WARN': 681065\n",
    "Response time: 0.0015490055084228516 seconds\n",
    "8d5244dad408:/app/hostdir# python /tmp/client.py ERROR\n",
    "Server response: Total characters for 'ERROR': 0\n",
    "Response time: 0.0004227161407470703 seconds\n",
    "8d5244dad408:/app/hostdir# python /tmp/client.py DEBUG\n",
    "Server response: Total characters for 'DEBUG': 0\n",
    "Response time: 0.0006170272827148438 seconds\n",
    "\n",
    "8d5244dad408:/app/hostdir# python /tmp/server_modified.py\n",
    "Listening on 0.0.0.0:12345...\n",
    "Connection from ('127.0.0.1', 42904)\n",
    "Received message: INFO\n",
    "Connection from ('127.0.0.1', 42912)\n",
    "Received message: WARN\n",
    "Connection from ('127.0.0.1', 59646)\n",
    "Received message: ERROR\n",
    "Connection from ('127.0.0.1', 59662)\n",
    "Received message: DEBUG\n",
    "```"
   ]
  }
 ],
 "metadata": {
  "kernelspec": {
   "display_name": "Python 3 (ipykernel)",
   "language": "python",
   "name": "python3"
  },
  "language_info": {
   "codemirror_mode": {
    "name": "ipython",
    "version": 3
   },
   "file_extension": ".py",
   "mimetype": "text/x-python",
   "name": "python",
   "nbconvert_exporter": "python",
   "pygments_lexer": "ipykernel",
   "version": "3.12.9"
  }
 },
 "nbformat": 4,
 "nbformat_minor": 5
}
