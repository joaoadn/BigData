{
 "cells": [
  {
   "cell_type": "markdown",
   "id": "2665f558-53d8-4586-bfa4-43830aa5384f",
   "metadata": {},
   "source": [
    "# EX6-STRUCT: SparkSQL basics\n",
    "\n",
    "Your assignment: complete the `TODO`'s and include also the **output of each cell**.\n",
    "\n",
    "#### You may need to read the [Dataframe API Documentation](https://spark.apache.org/docs/latest/api/python/reference/pyspark.sql/dataframe.html) to complete this lab."
   ]
  },
  {
   "cell_type": "markdown",
   "id": "7db17110-5cf4-44f8-b34d-64d7b91cd768",
   "metadata": {},
   "source": [
    "### Step 1: Download Bike Trip Data (GDrive)"
   ]
  },
  {
   "cell_type": "code",
   "execution_count": 2,
   "id": "ede39833-c55e-448d-8c3e-8d0fc1b5e8cc",
   "metadata": {},
   "outputs": [
    {
     "ename": "SyntaxError",
     "evalue": "invalid syntax (3507536760.py, line 14)",
     "output_type": "error",
     "traceback": [
      "  \u001b[36mCell\u001b[39m\u001b[36m \u001b[39m\u001b[32mIn[2]\u001b[39m\u001b[32m, line 14\u001b[39m\n\u001b[31m    \u001b[39m\u001b[31mid = \"1pX3WHi3R2n52zyo6swXxlOtVTgt_hOQG\"top30_rides = trips_df.orderBy(col(\"duration\").desc()).limit(30)\u001b[39m\n                                            ^\n\u001b[31mSyntaxError\u001b[39m\u001b[31m:\u001b[39m invalid syntax\n"
     ]
    }
   ],
   "source": [
    "import os\n",
    "import gdown\n",
    "\n",
    "# stations data\n",
    "if not os.path.isfile('data/station-data.json'):\n",
    "    id = \"134kLURYaTZuj6SWrg1XvkQKQ30bf1X7I\"\n",
    "    gdown.download(id=id, output=\"data/\")\n",
    "    print(\"Stations data downloaded\")\n",
    "else:\n",
    "    print(\"Stations data already downloaded\")\n",
    "\n",
    "# trips data\n",
    "if not os.path.isfile('data/trip-data.json'):\n",
    "    id = \"1pX3WHi3R2n52zyo6swXxlOtVTgt_hOQG\"top30_rides = trips_df.orderBy(col(\"duration\").desc()).limit(30)\n",
    "\n",
    "top30_with_coords = top30_rides.join(\n",
    "    stations_df,\n",
    "    top30_rides[\"start_station_name\"] == stations_df[\"name\"],\n",
    "    how=\"left\"\n",
    ").select(\n",
    "    top30_rides[\"start_station_name\"].alias(\"station\"),\n",
    "    stations_df[\"latitude\"].alias(\"lat\"),\n",
    "    stations_df[\"longitude\"].alias(\"long\"),\n",
    "    top30_rides[\"duration\"].alias(\"ride_duration\")\n",
    ")\n",
    "\n",
    "top30_with_coords.show(30, truncate=False)\n",
    "    gdown.download(id=id, output=\"data/\")\n",
    "    print(\"Trips data downloaded\")\n",
    "else:\n",
    "    print(\"Trips data already downloaded\")"
   ]
  },
  {
   "cell_type": "markdown",
   "id": "d78793a7-6d38-4794-a7d1-6b2c0e57ca8f",
   "metadata": {},
   "source": [
    "### Step 2: Start Spark Session"
   ]
  },
  {
   "cell_type": "code",
   "execution_count": 3,
   "id": "6991433e-339e-4dde-a08d-d31ce0c45a54",
   "metadata": {},
   "outputs": [
    {
     "name": "stdout",
     "output_type": "stream",
     "text": [
      "SparkContext not defined\n"
     ]
    },
    {
     "name": "stderr",
     "output_type": "stream",
     "text": [
      "Setting default log level to \"WARN\".\n",
      "To adjust logging level use sc.setLogLevel(newLevel). For SparkR, use setLogLevel(newLevel).\n",
      "25/05/08 00:48:12 WARN NativeCodeLoader: Unable to load native-hadoop library for your platform... using builtin-java classes where applicable\n"
     ]
    }
   ],
   "source": [
    "from pyspark.sql import SparkSession\n",
    "\n",
    "try:\n",
    "    spark.stop()\n",
    "except NameError:\n",
    "    print(\"SparkContext not defined\")\n",
    "\n",
    "# local mode\n",
    "spark = SparkSession.builder \\\n",
    "            .appName(\"Spark SQL basic example\") \\\n",
    "            .master(\"local[*]\") \\\n",
    "\t    \t.config(\"spark.some.config.option\", \"some-value\") \\\n",
    "\t    \t.getOrCreate()\n",
    "\n",
    "# cluster mode\n",
    "#spark = SparkSession.builder \\\n",
    "#            .appName(\"Spark SQL basic example\") \\\n",
    "#            .master(\"spark://spark:7077\") \\\n",
    "#\t    \t.config(\"spark.some.config.option\", \"some-value\") \\\n",
    "#\t    \t.getOrCreate()"
   ]
  },
  {
   "cell_type": "markdown",
   "id": "c14d39b9-8cb1-4605-9da6-d98d169b9790",
   "metadata": {},
   "source": [
    "### Step 3: Read JSON files as dataframes"
   ]
  },
  {
   "cell_type": "code",
   "execution_count": 4,
   "id": "b8d2a9a2-4ec7-4ccf-b0f8-b34a0c30d846",
   "metadata": {},
   "outputs": [
    {
     "name": "stdout",
     "output_type": "stream",
     "text": [
      "+---------+------------+------------+---------+-----------+--------------------+----------+\n",
      "|dockcount|installation|    landmark|      lat|       long|                name|station_id|\n",
      "+---------+------------+------------+---------+-----------+--------------------+----------+\n",
      "|       27|  2013-08-06|    San Jose|37.329732|-121.901782|San Jose Diridon ...|         2|\n",
      "|       15|  2013-08-05|    San Jose|37.330698|-121.888979|San Jose Civic Ce...|         3|\n",
      "|       11|  2013-08-06|    San Jose|37.333988|-121.894902|Santa Clara at Al...|         4|\n",
      "|       19|  2013-08-05|    San Jose|37.331415|  -121.8932|    Adobe on Almaden|         5|\n",
      "|       15|  2013-08-07|    San Jose|37.336721|-121.894074|    San Pedro Square|         6|\n",
      "|       15|  2013-08-07|    San Jose|37.333798|-121.886943|Paseo de San Antonio|         7|\n",
      "|       15|  2013-08-05|    San Jose|37.330165|-121.885831| San Salvador at 1st|         8|\n",
      "|       15|  2013-08-05|    San Jose|37.348742|-121.894715|           Japantown|         9|\n",
      "|       15|  2013-08-06|    San Jose|37.337391|-121.886995|  San Jose City Hall|        10|\n",
      "|       19|  2013-08-06|    San Jose|37.335885| -121.88566|         MLK Library|        11|\n",
      "|       19|  2013-08-07|    San Jose|37.332808|-121.883891|SJSU 4th at San C...|        12|\n",
      "|       15|  2013-08-06|    San Jose|37.339301|-121.889937|       St James Park|        13|\n",
      "|       19|  2013-08-05|    San Jose|37.332692|-121.900084|Arena Green / SAP...|        14|\n",
      "|       15|  2013-08-07|    San Jose|37.333955|-121.877349|SJSU - San Salvad...|        16|\n",
      "|       15|  2013-08-12|Redwood City|37.481758|-122.226904|   Franklin at Maple|        21|\n",
      "|       25|  2013-08-15|Redwood City|37.486078|-122.232089|Redwood City Calt...|        22|\n",
      "|       15|  2013-08-15|Redwood City|37.487616|-122.229951|San Mateo County ...|        23|\n",
      "|       15|  2013-08-12|Redwood City|37.484219|-122.227424|Redwood City Publ...|        24|\n",
      "|       15|  2013-08-12|Redwood City| 37.48537|-122.203288|Stanford in Redwo...|        25|\n",
      "|       15|  2013-08-12|Redwood City|37.487682|-122.223492|Redwood City Medi...|        26|\n",
      "+---------+------------+------------+---------+-----------+--------------------+----------+\n",
      "only showing top 20 rows\n",
      "\n"
     ]
    }
   ],
   "source": [
    "stations_df = spark.read.json('data/station-data.json')\n",
    "stations_df.show()"
   ]
  },
  {
   "cell_type": "code",
   "execution_count": 5,
   "id": "7f9fc205-2c22-44b1-a0b2-538516fe39f4",
   "metadata": {},
   "outputs": [
    {
     "name": "stderr",
     "output_type": "stream",
     "text": [
      "[Stage 3:============================>                           (12 + 12) / 24]"
     ]
    },
    {
     "name": "stdout",
     "output_type": "stream",
     "text": [
      "+-------+--------+--------------------+--------------------+------------+--------------------+--------------------+--------------+---------------+-------+--------+\n",
      "|bike_id|duration|            end_date|         end_station|end_terminal|          start_date|       start_station|start_terminal|subscriber_type|trip_id|zip_code|\n",
      "+-------+--------+--------------------+--------------------+------------+--------------------+--------------------+--------------+---------------+-------+--------+\n",
      "|    553|     698|2015-08-26T00:09:...|     Spear at Folsom|          49|2015-08-26T00:08:...|San Francisco Cal...|            69|     Subscriber| 905821|   94040|\n",
      "|    292|     628|2015-08-20T00:09:...|  Powell Street BART|          39|2015-08-20T00:09:...|     Townsend at 7th|            65|     Subscriber| 898176|   94107|\n",
      "|    506|     503|2015-08-28T00:08:...|       2nd at Folsom|          62|2015-08-28T00:08:...|Harry Bridges Pla...|            50|     Subscriber| 909314|   94558|\n",
      "|    520|     444|2015-08-25T00:10:...|   2nd at South Park|          64|2015-08-25T00:09:...|Temporary Transba...|            55|     Subscriber| 904161|   94610|\n",
      "|    340|     305|2015-08-21T00:11:...|Civic Center BART...|          72|2015-08-21T00:11:...|South Van Ness at...|            66|     Subscriber| 900036|   94702|\n",
      "|    585|     766|2015-08-29T00:11:...|     Spear at Folsom|          49|2015-08-29T00:11:...|       5th at Howard|            57|       Customer| 910815|   94558|\n",
      "|    355|    4323|2015-08-29T00:08:...|Embarcadero at Va...|          48|2015-08-29T00:07:...|Embarcadero at Va...|            48|       Customer| 910713|    NULL|\n",
      "|    877|     419|2015-08-20T00:13:...|San Francisco Cal...|          69|2015-08-20T00:13:...|San Francisco Cal...|            69|       Customer| 898437|    2138|\n",
      "|    404|     381|2015-08-28T00:09:...|Broadway St at Ba...|          82|2015-08-28T00:09:...|   Steuart at Market|            74|     Subscriber| 909603|   94556|\n",
      "|    147|    1068|2015-08-23T00:21:...|Castro Street and...|          32|2015-08-23T00:20:...|Mountain View Cal...|            28|     Subscriber| 901801|   95032|\n",
      "|    275|     537|2015-08-26T00:17:...|   Steuart at Market|          74|2015-08-26T00:17:...|     2nd at Townsend|            61|     Subscriber| 906853|   94110|\n",
      "|    578|     353|2015-08-23T00:17:...|San Francisco Cal...|          69|2015-08-23T00:17:...|       5th at Howard|            57|       Customer| 901719|   94148|\n",
      "|    563|     810|2015-08-28T00:17:...|Embarcadero at Sa...|          60|2015-08-28T00:17:...|San Francisco Cal...|            70|     Subscriber| 910364|   94111|\n",
      "|    212|     506|2015-08-20T00:08:...|       Market at 4th|          76|2015-08-20T00:08:...|     Spear at Folsom|            49|     Subscriber| 897997|   94105|\n",
      "|     96|     357|2015-08-27T00:09:...|     Clay at Battery|          41|2015-08-27T00:09:...|Mechanics Plaza (...|            75|     Subscriber| 907893|   94704|\n",
      "|    534|     567|2015-08-28T00:16:...|San Francisco Cal...|          70|2015-08-28T00:16:...|Temporary Transba...|            55|     Subscriber| 910149|   95014|\n",
      "|    636|     411|2015-08-18T00:08:...|Yerba Buena Cente...|          68|2015-08-18T00:08:...|San Francisco Cal...|            69|     Subscriber| 894385|   94107|\n",
      "|    404|     359|2015-08-28T00:11:...|   Market at Sansome|          77|2015-08-28T00:11:...|Broadway St at Ba...|            82|     Subscriber| 909875|   94109|\n",
      "|    537|     747|2015-08-25T00:14:...|Embarcadero at Sa...|          60|2015-08-25T00:14:...|Embarcadero at Br...|            54|     Subscriber| 904476|   94105|\n",
      "|    636|     611|2015-08-17T00:17:...|      Market at 10th|          67|2015-08-17T00:17:...|     Townsend at 7th|            65|     Subscriber| 893576|   94551|\n",
      "+-------+--------+--------------------+--------------------+------------+--------------------+--------------------+--------------+---------------+-------+--------+\n",
      "only showing top 20 rows\n",
      "\n"
     ]
    },
    {
     "name": "stderr",
     "output_type": "stream",
     "text": [
      "                                                                                "
     ]
    }
   ],
   "source": [
    "trips_df = spark.read.json('data/trip-data.json').repartition(9)\n",
    "trips_df.show()"
   ]
  },
  {
   "cell_type": "markdown",
   "id": "d0007319-3c00-453f-a229-8f341034cbd5",
   "metadata": {},
   "source": [
    "### Step 4: Use operations `select`, `distinct`, and `count` to determine \"how many different zip codes exists in trips data\" `#TODO`"
   ]
  },
  {
   "cell_type": "code",
   "execution_count": 6,
   "id": "277ecffb-1f36-4c83-b4d7-89ca426b6efc",
   "metadata": {},
   "outputs": [
    {
     "name": "stdout",
     "output_type": "stream",
     "text": [
      "Number of different zip codes: 4705\n"
     ]
    }
   ],
   "source": [
    "from pyspark.sql.functions import col\n",
    "\n",
    "zip_count = trips_df.select(col(\"zip_code\")).distinct().count()\n",
    "print(f\"Number of different zip codes: {zip_count}\")"
   ]
  },
  {
   "cell_type": "markdown",
   "id": "244a24f1-09de-4fac-92bf-73917f9760b1",
   "metadata": {},
   "source": [
    "### Step 5: Dataframe = RDD with schema\n",
    "Observe that a dataframe is an RDD with each item being of type `Row`. Naturally, rows have schema associated with."
   ]
  },
  {
   "cell_type": "code",
   "execution_count": 7,
   "id": "d21ddad3-c996-47a1-9d4b-087d1835990c",
   "metadata": {},
   "outputs": [
    {
     "data": {
      "text/plain": [
       "[Row(dockcount=27, installation='2013-08-06', landmark='San Jose', lat=37.329732, long=-121.901782, name='San Jose Diridon Caltrain Station', station_id=2),\n",
       " Row(dockcount=15, installation='2013-08-05', landmark='San Jose', lat=37.330698, long=-121.888979, name='San Jose Civic Center', station_id=3),\n",
       " Row(dockcount=11, installation='2013-08-06', landmark='San Jose', lat=37.333988, long=-121.894902, name='Santa Clara at Almaden', station_id=4)]"
      ]
     },
     "execution_count": 7,
     "metadata": {},
     "output_type": "execute_result"
    }
   ],
   "source": [
    "stations_df.take(3)"
   ]
  },
  {
   "cell_type": "code",
   "execution_count": 8,
   "id": "5b1814b7-6ef9-49a3-86aa-6b4e16d7a7fa",
   "metadata": {},
   "outputs": [
    {
     "name": "stdout",
     "output_type": "stream",
     "text": [
      "root\n",
      " |-- dockcount: long (nullable = true)\n",
      " |-- installation: string (nullable = true)\n",
      " |-- landmark: string (nullable = true)\n",
      " |-- lat: double (nullable = true)\n",
      " |-- long: double (nullable = true)\n",
      " |-- name: string (nullable = true)\n",
      " |-- station_id: long (nullable = true)\n",
      "\n"
     ]
    }
   ],
   "source": [
    "stations_df.printSchema()"
   ]
  },
  {
   "cell_type": "markdown",
   "id": "86a56b0b-6352-437e-bbb8-e3734a39f125",
   "metadata": {},
   "source": [
    "### Step 6: Extract from trips data the top 10 latest rides -- the ones that happened more recently"
   ]
  },
  {
   "cell_type": "code",
   "execution_count": 9,
   "id": "315f7f72-22ff-472c-b34f-d7ab35a89857",
   "metadata": {},
   "outputs": [
    {
     "name": "stdout",
     "output_type": "stream",
     "text": [
      "root\n",
      " |-- bike_id: long (nullable = true)\n",
      " |-- duration: long (nullable = true)\n",
      " |-- end_date: string (nullable = true)\n",
      " |-- end_station: string (nullable = true)\n",
      " |-- end_terminal: long (nullable = true)\n",
      " |-- start_date: string (nullable = true)\n",
      " |-- start_station: string (nullable = true)\n",
      " |-- start_terminal: long (nullable = true)\n",
      " |-- subscriber_type: string (nullable = true)\n",
      " |-- trip_id: long (nullable = true)\n",
      " |-- zip_code: long (nullable = true)\n",
      "\n"
     ]
    }
   ],
   "source": [
    "trips_df.printSchema()"
   ]
  },
  {
   "cell_type": "code",
   "execution_count": 10,
   "id": "78dc6900-a14d-40c7-993e-e5604b388a7c",
   "metadata": {},
   "outputs": [
    {
     "data": {
      "text/plain": [
       "Row(start_date='2015-08-17T00:19:06.000-03:00')"
      ]
     },
     "execution_count": 10,
     "metadata": {},
     "output_type": "execute_result"
    }
   ],
   "source": [
    "# start_date as string\n",
    "trips_df.select(col(\"start_date\")).first()"
   ]
  },
  {
   "cell_type": "code",
   "execution_count": 11,
   "id": "348880ea-295c-4c16-bd86-0467ba3f7413",
   "metadata": {},
   "outputs": [],
   "source": [
    "from pyspark.sql.functions import to_date, col, unix_timestamp, to_timestamp\n",
    "\n",
    "# new column with start_date formatted as datetime (now we have the notion of 'order' between dates)\n",
    "trips_df = trips_df.withColumn(\"start_date_fmt\", to_timestamp(col(\"start_date\"), \"yyyy-MM-dd'T'HH:mm:ss.SSSXXX\"))"
   ]
  },
  {
   "cell_type": "code",
   "execution_count": 12,
   "id": "70b108b8-bb76-4a31-93c6-a109fefff90a",
   "metadata": {},
   "outputs": [
    {
     "name": "stdout",
     "output_type": "stream",
     "text": [
      "+-------+--------+-----------------------------+---------------------------------------------+------------+-----------------------------+---------------------------------------------+--------------+---------------+-------+--------+-------------------+\n",
      "|bike_id|duration|end_date                     |end_station                                  |end_terminal|start_date                   |start_station                                |start_terminal|subscriber_type|trip_id|zip_code|start_date_fmt     |\n",
      "+-------+--------+-----------------------------+---------------------------------------------+------------+-----------------------------+---------------------------------------------+--------------+---------------+-------+--------+-------------------+\n",
      "|288    |765     |2015-08-31T00:23:39.000-03:00|San Francisco Caltrain (Townsend at 4th)     |70          |2015-08-31T00:23:26.000-03:00|Harry Bridges Plaza (Ferry Building)         |50            |Subscriber     |913460 |2139    |2015-08-31 03:23:26|\n",
      "|468    |307     |2015-08-31T00:23:18.000-03:00|2nd at South Park                            |64          |2015-08-31T00:23:13.000-03:00|Post at Kearny                               |47            |Subscriber     |913455 |94107   |2015-08-31 03:23:13|\n",
      "|35     |1036    |2015-08-31T00:23:28.000-03:00|Mountain View City Hall                      |27          |2015-08-31T00:23:11.000-03:00|San Antonio Shopping Center                  |31            |Subscriber     |913459 |95032   |2015-08-31 03:23:11|\n",
      "|68     |409     |2015-08-31T00:23:17.000-03:00|San Salvador at 1st                          |8           |2015-08-31T00:23:10.000-03:00|San Jose City Hall                           |10            |Subscriber     |913454 |95113   |2015-08-31 03:23:10|\n",
      "|487    |789     |2015-08-31T00:23:22.000-03:00|Embarcadero at Sansome                       |60          |2015-08-31T00:23:09.000-03:00|Embarcadero at Folsom                        |51            |Customer       |913453 |9069    |2015-08-31 03:23:09|\n",
      "|538    |293     |2015-08-31T00:23:12.000-03:00|San Francisco Caltrain (Townsend at 4th)     |70          |2015-08-31T00:23:07.000-03:00|Yerba Buena Center of the Arts (3rd @ Howard)|68            |Subscriber     |913452 |94118   |2015-08-31 03:23:07|\n",
      "|363    |896     |2015-08-31T00:23:22.000-03:00|Embarcadero at Sansome                       |60          |2015-08-31T00:23:07.000-03:00|Embarcadero at Folsom                        |51            |Customer       |913451 |92562   |2015-08-31 03:23:07|\n",
      "|470    |255     |2015-08-31T00:22:20.000-03:00|Steuart at Market                            |74          |2015-08-31T00:22:16.000-03:00|Embarcadero at Sansome                       |60            |Subscriber     |913450 |94111   |2015-08-31 03:22:16|\n",
      "|439    |126     |2015-08-31T00:22:15.000-03:00|Temporary Transbay Terminal (Howard at Beale)|55          |2015-08-31T00:22:12.000-03:00|Beale at Market                              |56            |Subscriber     |913449 |94130   |2015-08-31 03:22:12|\n",
      "|472    |932     |2015-08-31T00:22:12.000-03:00|South Van Ness at Market                     |66          |2015-08-31T00:21:57.000-03:00|Post at Kearny                               |47            |Subscriber     |913448 |94702   |2015-08-31 03:21:57|\n",
      "+-------+--------+-----------------------------+---------------------------------------------+------------+-----------------------------+---------------------------------------------+--------------+---------------+-------+--------+-------------------+\n",
      "\n"
     ]
    }
   ],
   "source": [
    "top10_latest_rides = trips_df.orderBy(col(\"start_date_fmt\").desc()).limit(10)\n",
    "top10_latest_rides.show(truncate=False)"
   ]
  },
  {
   "cell_type": "markdown",
   "id": "951e5be8-7235-4578-894d-aa2b004caedd",
   "metadata": {},
   "source": [
    "### Step 7: Get the latitude and longitude of the **starting stations** that produced the top-30 longest rides `#TODO`\n",
    "\n",
    "Generate a list such as:\n",
    "```\n",
    "station1 lat long ride_duration\n",
    "station2 lat long ride_duration\n",
    "station3 lat long ride_duration\n",
    "...\n",
    "```\n",
    "\n",
    "Obs: the same station may appear more than once in this list"
   ]
  },
  {
   "cell_type": "code",
   "execution_count": 14,
   "id": "94151757-81e4-42a5-8941-e118f416106d",
   "metadata": {},
   "outputs": [
    {
     "ename": "AnalysisException",
     "evalue": "[UNRESOLVED_COLUMN.WITH_SUGGESTION] A column or function parameter with name `latitude` cannot be resolved. Did you mean one of the following? [`dockcount`, `installation`, `landmark`, `lat`, `long`, `name`, `station_id`].",
     "output_type": "error",
     "traceback": [
      "\u001b[31m---------------------------------------------------------------------------\u001b[39m",
      "\u001b[31mAnalysisException\u001b[39m                         Traceback (most recent call last)",
      "\u001b[36mCell\u001b[39m\u001b[36m \u001b[39m\u001b[32mIn[14]\u001b[39m\u001b[32m, line 9\u001b[39m\n\u001b[32m      1\u001b[39m top30_rides = trips_df.orderBy(col(\u001b[33m\"\u001b[39m\u001b[33mduration\u001b[39m\u001b[33m\"\u001b[39m).desc()).limit(\u001b[32m30\u001b[39m)\n\u001b[32m      3\u001b[39m top30_with_coords = top30_rides.join(\n\u001b[32m      4\u001b[39m     stations_df,\n\u001b[32m      5\u001b[39m     top30_rides[\u001b[33m\"\u001b[39m\u001b[33mstart_station\u001b[39m\u001b[33m\"\u001b[39m] == stations_df[\u001b[33m\"\u001b[39m\u001b[33mname\u001b[39m\u001b[33m\"\u001b[39m],\n\u001b[32m      6\u001b[39m     how=\u001b[33m\"\u001b[39m\u001b[33mleft\u001b[39m\u001b[33m\"\u001b[39m\n\u001b[32m      7\u001b[39m ).select(\n\u001b[32m      8\u001b[39m     top30_rides[\u001b[33m\"\u001b[39m\u001b[33mstart_station\u001b[39m\u001b[33m\"\u001b[39m].alias(\u001b[33m\"\u001b[39m\u001b[33mstation\u001b[39m\u001b[33m\"\u001b[39m),\n\u001b[32m----> \u001b[39m\u001b[32m9\u001b[39m     \u001b[43mstations_df\u001b[49m\u001b[43m[\u001b[49m\u001b[33;43m\"\u001b[39;49m\u001b[33;43mlatitude\u001b[39;49m\u001b[33;43m\"\u001b[39;49m\u001b[43m]\u001b[49m.alias(\u001b[33m\"\u001b[39m\u001b[33mlat\u001b[39m\u001b[33m\"\u001b[39m),\n\u001b[32m     10\u001b[39m     stations_df[\u001b[33m\"\u001b[39m\u001b[33mlongitude\u001b[39m\u001b[33m\"\u001b[39m].alias(\u001b[33m\"\u001b[39m\u001b[33mlong\u001b[39m\u001b[33m\"\u001b[39m),\n\u001b[32m     11\u001b[39m     top30_rides[\u001b[33m\"\u001b[39m\u001b[33mduration\u001b[39m\u001b[33m\"\u001b[39m].alias(\u001b[33m\"\u001b[39m\u001b[33mride_duration\u001b[39m\u001b[33m\"\u001b[39m)\n\u001b[32m     12\u001b[39m )\n\u001b[32m     14\u001b[39m top30_with_coords.show(\u001b[32m30\u001b[39m, truncate=\u001b[38;5;28;01mFalse\u001b[39;00m)\n",
      "\u001b[36mFile \u001b[39m\u001b[32m/app/.venv/lib/python3.12/site-packages/pyspark/sql/dataframe.py:3080\u001b[39m, in \u001b[36mDataFrame.__getitem__\u001b[39m\u001b[34m(self, item)\u001b[39m\n\u001b[32m   3008\u001b[39m \u001b[38;5;250m\u001b[39m\u001b[33;03m\"\"\"Returns the column as a :class:`Column`.\u001b[39;00m\n\u001b[32m   3009\u001b[39m \n\u001b[32m   3010\u001b[39m \u001b[33;03m.. versionadded:: 1.3.0\u001b[39;00m\n\u001b[32m   (...)\u001b[39m\u001b[32m   3077\u001b[39m \u001b[33;03m+---+----+\u001b[39;00m\n\u001b[32m   3078\u001b[39m \u001b[33;03m\"\"\"\u001b[39;00m\n\u001b[32m   3079\u001b[39m \u001b[38;5;28;01mif\u001b[39;00m \u001b[38;5;28misinstance\u001b[39m(item, \u001b[38;5;28mstr\u001b[39m):\n\u001b[32m-> \u001b[39m\u001b[32m3080\u001b[39m     jc = \u001b[38;5;28;43mself\u001b[39;49m\u001b[43m.\u001b[49m\u001b[43m_jdf\u001b[49m\u001b[43m.\u001b[49m\u001b[43mapply\u001b[49m\u001b[43m(\u001b[49m\u001b[43mitem\u001b[49m\u001b[43m)\u001b[49m\n\u001b[32m   3081\u001b[39m     \u001b[38;5;28;01mreturn\u001b[39;00m Column(jc)\n\u001b[32m   3082\u001b[39m \u001b[38;5;28;01melif\u001b[39;00m \u001b[38;5;28misinstance\u001b[39m(item, Column):\n",
      "\u001b[36mFile \u001b[39m\u001b[32m/app/.venv/lib/python3.12/site-packages/py4j/java_gateway.py:1322\u001b[39m, in \u001b[36mJavaMember.__call__\u001b[39m\u001b[34m(self, *args)\u001b[39m\n\u001b[32m   1316\u001b[39m command = proto.CALL_COMMAND_NAME +\\\n\u001b[32m   1317\u001b[39m     \u001b[38;5;28mself\u001b[39m.command_header +\\\n\u001b[32m   1318\u001b[39m     args_command +\\\n\u001b[32m   1319\u001b[39m     proto.END_COMMAND_PART\n\u001b[32m   1321\u001b[39m answer = \u001b[38;5;28mself\u001b[39m.gateway_client.send_command(command)\n\u001b[32m-> \u001b[39m\u001b[32m1322\u001b[39m return_value = \u001b[43mget_return_value\u001b[49m\u001b[43m(\u001b[49m\n\u001b[32m   1323\u001b[39m \u001b[43m    \u001b[49m\u001b[43manswer\u001b[49m\u001b[43m,\u001b[49m\u001b[43m \u001b[49m\u001b[38;5;28;43mself\u001b[39;49m\u001b[43m.\u001b[49m\u001b[43mgateway_client\u001b[49m\u001b[43m,\u001b[49m\u001b[43m \u001b[49m\u001b[38;5;28;43mself\u001b[39;49m\u001b[43m.\u001b[49m\u001b[43mtarget_id\u001b[49m\u001b[43m,\u001b[49m\u001b[43m \u001b[49m\u001b[38;5;28;43mself\u001b[39;49m\u001b[43m.\u001b[49m\u001b[43mname\u001b[49m\u001b[43m)\u001b[49m\n\u001b[32m   1325\u001b[39m \u001b[38;5;28;01mfor\u001b[39;00m temp_arg \u001b[38;5;129;01min\u001b[39;00m temp_args:\n\u001b[32m   1326\u001b[39m     \u001b[38;5;28;01mif\u001b[39;00m \u001b[38;5;28mhasattr\u001b[39m(temp_arg, \u001b[33m\"\u001b[39m\u001b[33m_detach\u001b[39m\u001b[33m\"\u001b[39m):\n",
      "\u001b[36mFile \u001b[39m\u001b[32m/app/.venv/lib/python3.12/site-packages/pyspark/errors/exceptions/captured.py:185\u001b[39m, in \u001b[36mcapture_sql_exception.<locals>.deco\u001b[39m\u001b[34m(*a, **kw)\u001b[39m\n\u001b[32m    181\u001b[39m converted = convert_exception(e.java_exception)\n\u001b[32m    182\u001b[39m \u001b[38;5;28;01mif\u001b[39;00m \u001b[38;5;129;01mnot\u001b[39;00m \u001b[38;5;28misinstance\u001b[39m(converted, UnknownException):\n\u001b[32m    183\u001b[39m     \u001b[38;5;66;03m# Hide where the exception came from that shows a non-Pythonic\u001b[39;00m\n\u001b[32m    184\u001b[39m     \u001b[38;5;66;03m# JVM exception message.\u001b[39;00m\n\u001b[32m--> \u001b[39m\u001b[32m185\u001b[39m     \u001b[38;5;28;01mraise\u001b[39;00m converted \u001b[38;5;28;01mfrom\u001b[39;00m\u001b[38;5;250m \u001b[39m\u001b[38;5;28;01mNone\u001b[39;00m\n\u001b[32m    186\u001b[39m \u001b[38;5;28;01melse\u001b[39;00m:\n\u001b[32m    187\u001b[39m     \u001b[38;5;28;01mraise\u001b[39;00m\n",
      "\u001b[31mAnalysisException\u001b[39m: [UNRESOLVED_COLUMN.WITH_SUGGESTION] A column or function parameter with name `latitude` cannot be resolved. Did you mean one of the following? [`dockcount`, `installation`, `landmark`, `lat`, `long`, `name`, `station_id`]."
     ]
    }
   ],
   "source": [
    "top30_rides = trips_df.orderBy(col(\"duration\").desc()).limit(30)\n",
    "\n",
    "top30_with_coords = top30_rides.join(\n",
    "    stations_df,\n",
    "    top30_rides[\"start_station\"] == stations_df[\"name\"],\n",
    "    how=\"left\"\n",
    ").select(\n",
    "    top30_rides[\"start_station\"].alias(\"station\"),\n",
    "    stations_df[\"lat\"].alias(\"lat\"),\n",
    "    stations_df[\"long\"].alias(\"long\"),\n",
    "    top30_rides[\"duration\"].alias(\"ride_duration\")\n",
    ")\n",
    "\n",
    "top30_with_coords.show(30, truncate=False)"
   ]
  }
 ],
 "metadata": {
  "kernelspec": {
   "display_name": "Python 3 (ipykernel)",
   "language": "python",
   "name": "python3"
  },
  "language_info": {
   "codemirror_mode": {
    "name": "ipython",
    "version": 3
   },
   "file_extension": ".py",
   "mimetype": "text/x-python",
   "name": "python",
   "nbconvert_exporter": "python",
   "pygments_lexer": "ipython3",
   "version": "3.12.10"
  }
 },
 "nbformat": 4,
 "nbformat_minor": 5
}
